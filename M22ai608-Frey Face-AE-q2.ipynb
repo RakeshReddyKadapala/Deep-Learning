{
 "cells": [
  {
   "cell_type": "code",
   "execution_count": null,
   "id": "09186c25",
   "metadata": {},
   "outputs": [],
   "source": [
    "#M22ai608-Frey Face-AE-q2"
   ]
  },
  {
   "cell_type": "code",
   "execution_count": null,
   "id": "5fbe068a",
   "metadata": {},
   "outputs": [],
   "source": [
    "#Implement variational Auto-encoders. Use the Frey Face dataset to train your network. Sample points\n",
    "#from the learned distribution by varying different latent variables to show that your network has learned meaningful latent variables. Set the embedding vector size to 20.\n",
    "#Dataset: https://cs.nyu.edu/∼roweis/data/frey rawface.mat"
   ]
  },
  {
   "cell_type": "code",
   "execution_count": 1,
   "id": "872d11f1",
   "metadata": {},
   "outputs": [],
   "source": [
    "#Libraries\n",
    "import torch\n",
    "import torch.nn as nn\n",
    "import torch.optim as optim\n",
    "import numpy as np\n",
    "import matplotlib.pyplot as plt\n",
    "import scipy.io"
   ]
  },
  {
   "cell_type": "code",
   "execution_count": 2,
   "id": "db217de3",
   "metadata": {},
   "outputs": [],
   "source": [
    "#C:\\\\Users\\\\Admin\\\\OneDrive\\\\Desktop\\\\m22ai608-BigData-assign3\\\\M22ai608-FreyFace-AE-q2\\\\frey_rawface.mat"
   ]
  },
  {
   "cell_type": "code",
   "execution_count": 3,
   "id": "8a5610d7",
   "metadata": {},
   "outputs": [],
   "source": [
    "# Load and preprocess the data\n",
    "data = scipy.io.loadmat('C:\\\\Users\\\\Admin\\\\OneDrive\\\\Desktop\\\\m22ai608-BigData-assign3\\\\M22ai608-FreyFace-AE-q2\\\\frey_rawface.mat')\n",
    "images = data['ff'].T  # Transpose to get the correct shape (num_samples, num_features)\n",
    "images = images.astype(np.float32) / 255.0  # Normalize pixel values to the range [0, 1]"
   ]
  },
  {
   "cell_type": "code",
   "execution_count": 4,
   "id": "2ea9b43f",
   "metadata": {},
   "outputs": [],
   "source": [
    "# Convert the data to PyTorch tensors\n",
    "tensor_images = torch.tensor(images)"
   ]
  },
  {
   "cell_type": "code",
   "execution_count": 5,
   "id": "3e240417",
   "metadata": {},
   "outputs": [],
   "source": [
    "#  Define the Variational Autoencoder class\n",
    "class VAE(nn.Module):\n",
    "    def __init__(self, input_size, hidden_size, latent_size):\n",
    "        super(VAE, self).__init__()\n",
    "        self.encoder = nn.Sequential(\n",
    "            nn.Linear(input_size, hidden_size),\n",
    "            nn.ReLU()\n",
    "        )\n",
    "        self.mu_layer = nn.Linear(hidden_size, latent_size)\n",
    "        self.logvar_layer = nn.Linear(hidden_size, latent_size)\n",
    "        self.decoder = nn.Sequential(\n",
    "            nn.Linear(latent_size, hidden_size),\n",
    "            nn.ReLU(),\n",
    "            nn.Linear(hidden_size, input_size),\n",
    "            nn.Sigmoid()\n",
    "        )\n",
    "        self.latent_size = latent_size\n",
    "\n",
    "    def encode(self, x):\n",
    "        encoded = self.encoder(x)\n",
    "        mu = self.mu_layer(encoded)\n",
    "        logvar = self.logvar_layer(encoded)\n",
    "        return mu, logvar\n",
    "\n",
    "    def reparameterize(self, mu, logvar):\n",
    "        std = torch.exp(0.5*logvar)\n",
    "        eps = torch.randn_like(std)\n",
    "        z = mu + eps*std\n",
    "        return z\n",
    "\n",
    "    def decode(self, z):\n",
    "        decoded = self.decoder(z)\n",
    "        return decoded\n",
    "\n",
    "    def forward(self, x):\n",
    "        mu, logvar = self.encode(x)\n",
    "        z = self.reparameterize(mu, logvar)\n",
    "        decoded = self.decode(z)\n",
    "        return decoded, mu, logvar"
   ]
  },
  {
   "cell_type": "code",
   "execution_count": 6,
   "id": "a973236c",
   "metadata": {},
   "outputs": [],
   "source": [
    "#  Create the VAE model with embedding vector size 20\n",
    "input_size = images.shape[1]  # Number of features in each image\n",
    "hidden_size = 128\n",
    "latent_size = 20\n",
    "vae = VAE(input_size, hidden_size, latent_size)"
   ]
  },
  {
   "cell_type": "code",
   "execution_count": 7,
   "id": "905461ad",
   "metadata": {},
   "outputs": [],
   "source": [
    "#  Define the loss function and optimizer\n",
    "criterion = nn.BCELoss(reduction='sum')  # Binary cross-entropy loss for binary inputs\n",
    "optimizer = optim.Adam(vae.parameters(), lr=0.001)"
   ]
  },
  {
   "cell_type": "code",
   "execution_count": 8,
   "id": "01495c84",
   "metadata": {},
   "outputs": [
    {
     "name": "stdout",
     "output_type": "stream",
     "text": [
      "Epoch 1/50, Loss: 360.80636430502545\n",
      "Epoch 2/50, Loss: 347.4597189090331\n",
      "Epoch 3/50, Loss: 345.61177540553433\n",
      "Epoch 4/50, Loss: 344.9934746739822\n",
      "Epoch 5/50, Loss: 344.6508766698473\n",
      "Epoch 6/50, Loss: 344.47575739503816\n",
      "Epoch 7/50, Loss: 344.25133388994914\n",
      "Epoch 8/50, Loss: 344.1155603928117\n",
      "Epoch 9/50, Loss: 343.8751371660305\n",
      "Epoch 10/50, Loss: 343.48869175413483\n",
      "Epoch 11/50, Loss: 343.0396956504453\n",
      "Epoch 12/50, Loss: 342.82550493002543\n",
      "Epoch 13/50, Loss: 342.6859325302163\n",
      "Epoch 14/50, Loss: 342.54751709605597\n",
      "Epoch 15/50, Loss: 342.45017493638676\n",
      "Epoch 16/50, Loss: 342.3198185034987\n",
      "Epoch 17/50, Loss: 342.2619533237914\n",
      "Epoch 18/50, Loss: 342.2028089217557\n",
      "Epoch 19/50, Loss: 341.9692459844148\n",
      "Epoch 20/50, Loss: 341.93251331902036\n",
      "Epoch 21/50, Loss: 341.77296238867683\n",
      "Epoch 22/50, Loss: 341.74980518447836\n",
      "Epoch 23/50, Loss: 341.63975230597964\n",
      "Epoch 24/50, Loss: 341.5484146389949\n",
      "Epoch 25/50, Loss: 341.44897026081424\n",
      "Epoch 26/50, Loss: 341.44886887722646\n",
      "Epoch 27/50, Loss: 341.36426725508903\n",
      "Epoch 28/50, Loss: 341.3093889153944\n",
      "Epoch 29/50, Loss: 341.217434995229\n",
      "Epoch 30/50, Loss: 341.22035524013995\n",
      "Epoch 31/50, Loss: 341.0247206981552\n",
      "Epoch 32/50, Loss: 341.01244831424935\n",
      "Epoch 33/50, Loss: 340.9921020197201\n",
      "Epoch 34/50, Loss: 340.90392115935117\n",
      "Epoch 35/50, Loss: 340.90144322519086\n",
      "Epoch 36/50, Loss: 340.86787829993636\n",
      "Epoch 37/50, Loss: 340.8243877226463\n",
      "Epoch 38/50, Loss: 340.89745646469464\n",
      "Epoch 39/50, Loss: 340.80698254611957\n",
      "Epoch 40/50, Loss: 340.69726463104325\n",
      "Epoch 41/50, Loss: 340.69365656806616\n",
      "Epoch 42/50, Loss: 340.6859901797074\n",
      "Epoch 43/50, Loss: 340.59419728053433\n",
      "Epoch 44/50, Loss: 340.6217636768448\n",
      "Epoch 45/50, Loss: 340.5643954755089\n",
      "Epoch 46/50, Loss: 340.6109693066158\n",
      "Epoch 47/50, Loss: 340.5972845101781\n",
      "Epoch 48/50, Loss: 340.46963064567433\n",
      "Epoch 49/50, Loss: 340.43268825540713\n",
      "Epoch 50/50, Loss: 340.4107337388677\n",
      "Training finished.\n"
     ]
    }
   ],
   "source": [
    "#  Train the VAE model\n",
    "num_epochs = 50\n",
    "batch_size = 64\n",
    "num_samples = tensor_images.shape[0]\n",
    "num_batches = num_samples // batch_size\n",
    "\n",
    "for epoch in range(num_epochs):\n",
    "    running_loss = 0.0\n",
    "    indices = torch.randperm(num_samples)\n",
    "    for i in range(num_batches):\n",
    "        batch_indices = indices[i*batch_size : (i+1)*batch_size]\n",
    "        batch = tensor_images[batch_indices]\n",
    "\n",
    "        optimizer.zero_grad()\n",
    "\n",
    "        outputs, mu, logvar = vae(batch)\n",
    "        loss = criterion(outputs, batch)\n",
    "\n",
    "        # Add KL divergence term to the loss\n",
    "        kl_divergence = -0.5 * torch.sum(1 + logvar - mu.pow(2) - logvar.exp())\n",
    "        loss += kl_divergence\n",
    "\n",
    "        loss.backward()\n",
    "        optimizer.step()\n",
    "\n",
    "        running_loss += loss.item()\n",
    "\n",
    "    print(f\"Epoch {epoch + 1}/{num_epochs}, Loss: {running_loss / num_samples}\")\n",
    "\n",
    "print(\"Training finished.\")"
   ]
  },
  {
   "cell_type": "code",
   "execution_count": 9,
   "id": "51b3d0c9",
   "metadata": {},
   "outputs": [],
   "source": [
    "#  Generate samples from the VAE model\n",
    "vae.eval()\n",
    "with torch.no_grad():\n",
    "    num_samples_to_generate = 10\n",
    "    samples = torch.randn(num_samples_to_generate, latent_size)\n",
    "    generated_images = vae.decode(samples).numpy()"
   ]
  },
  {
   "cell_type": "code",
   "execution_count": 10,
   "id": "8912c48b",
   "metadata": {},
   "outputs": [
    {
     "data": {
      "image/png": "[encoded data removed]",
      "text/plain": [
       "<Figure size 1000x400 with 10 Axes>"
      ]
     },
     "metadata": {},
     "output_type": "display_data"
    }
   ],
   "source": [
    "#  Visualize the generated samples\n",
    "plt.figure(figsize=(10, 4))\n",
    "for i in range(num_samples_to_generate):\n",
    "    ax = plt.subplot(2, num_samples_to_generate // 2, i + 1)\n",
    "    plt.imshow(generated_images[i].reshape(28, 20), cmap='gray')\n",
    "    plt.axis('off')\n",
    "\n",
    "plt.tight_layout()\n",
    "plt.show()\n"
   ]
  },
  {
   "cell_type": "code",
   "execution_count": null,
   "id": "e97735ea",
   "metadata": {},
   "outputs": [],
   "source": []
  }
 ],
 "metadata": {
  "kernelspec": {
   "display_name": "Python 3 (ipykernel)",
   "language": "python",
   "name": "python3"
  },
  "language_info": {
   "codemirror_mode": {
    "name": "ipython",
    "version": 3
   },
   "file_extension": ".py",
   "mimetype": "text/x-python",
   "name": "python",
   "nbconvert_exporter": "python",
   "pygments_lexer": "ipython3",
   "version": "3.9.13"
  }
 },
 "nbformat": 4,
 "nbformat_minor": 5
}
